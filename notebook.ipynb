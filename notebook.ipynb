{
 "cells": [
  {
   "cell_type": "code",
   "execution_count": 3,
   "metadata": {},
   "outputs": [],
   "source": [
    "import pandas as pd\n",
    "import matplotlib.pyplot as plt\n"
   ]
  },
  {
   "cell_type": "code",
   "execution_count": 6,
   "metadata": {},
   "outputs": [
    {
     "data": {
      "text/html": [
       "<div>\n",
       "<style scoped>\n",
       "    .dataframe tbody tr th:only-of-type {\n",
       "        vertical-align: middle;\n",
       "    }\n",
       "\n",
       "    .dataframe tbody tr th {\n",
       "        vertical-align: top;\n",
       "    }\n",
       "\n",
       "    .dataframe thead th {\n",
       "        text-align: right;\n",
       "    }\n",
       "</style>\n",
       "<table border=\"1\" class=\"dataframe\">\n",
       "  <thead>\n",
       "    <tr style=\"text-align: right;\">\n",
       "      <th></th>\n",
       "      <th>cod</th>\n",
       "      <th>device</th>\n",
       "      <th>url</th>\n",
       "      <th>redirectEnd</th>\n",
       "      <th>requestStart</th>\n",
       "      <th>responseEnd</th>\n",
       "      <th>loadEventEnd</th>\n",
       "    </tr>\n",
       "  </thead>\n",
       "  <tbody>\n",
       "    <tr>\n",
       "      <th>0</th>\n",
       "      <td>1</td>\n",
       "      <td>iphone</td>\n",
       "      <td>https://www.kabum.com.br</td>\n",
       "      <td>0</td>\n",
       "      <td>34</td>\n",
       "      <td>67</td>\n",
       "      <td>4544</td>\n",
       "    </tr>\n",
       "    <tr>\n",
       "      <th>1</th>\n",
       "      <td>1</td>\n",
       "      <td>desktop</td>\n",
       "      <td>https://www.pichau.com.br</td>\n",
       "      <td>0</td>\n",
       "      <td>57</td>\n",
       "      <td>330</td>\n",
       "      <td>1728</td>\n",
       "    </tr>\n",
       "    <tr>\n",
       "      <th>2</th>\n",
       "      <td>1</td>\n",
       "      <td>iphone</td>\n",
       "      <td>https://www.pichau.com.br</td>\n",
       "      <td>0</td>\n",
       "      <td>66</td>\n",
       "      <td>382</td>\n",
       "      <td>2399</td>\n",
       "    </tr>\n",
       "    <tr>\n",
       "      <th>3</th>\n",
       "      <td>1</td>\n",
       "      <td>desktop</td>\n",
       "      <td>https://www.amazon.com.br</td>\n",
       "      <td>0</td>\n",
       "      <td>91</td>\n",
       "      <td>526</td>\n",
       "      <td>1012</td>\n",
       "    </tr>\n",
       "    <tr>\n",
       "      <th>4</th>\n",
       "      <td>1</td>\n",
       "      <td>iphone</td>\n",
       "      <td>https://www.amazon.com.br</td>\n",
       "      <td>0</td>\n",
       "      <td>69</td>\n",
       "      <td>841</td>\n",
       "      <td>1132</td>\n",
       "    </tr>\n",
       "  </tbody>\n",
       "</table>\n",
       "</div>"
      ],
      "text/plain": [
       "   cod   device                        url redirectEnd requestStart  \\\n",
       "0    1   iphone   https://www.kabum.com.br           0           34   \n",
       "1    1  desktop  https://www.pichau.com.br           0           57   \n",
       "2    1   iphone  https://www.pichau.com.br           0           66   \n",
       "3    1  desktop  https://www.amazon.com.br           0           91   \n",
       "4    1   iphone  https://www.amazon.com.br           0           69   \n",
       "\n",
       "  responseEnd loadEventEnd  \n",
       "0          67         4544  \n",
       "1         330         1728  \n",
       "2         382         2399  \n",
       "3         526         1012  \n",
       "4         841         1132  "
      ]
     },
     "execution_count": 6,
     "metadata": {},
     "output_type": "execute_result"
    }
   ],
   "source": [
    "df = pd.read_csv('output/output.csv',  sep=';', header=0, names=[\"cod\", \"device\", \"url\", \"redirectEnd\", \"requestStart\", \"responseEnd\", \"loadEventEnd\"])\n",
    "\n",
    "df.head()"
   ]
  },
  {
   "cell_type": "code",
   "execution_count": 11,
   "metadata": {},
   "outputs": [
    {
     "data": {
      "image/png": "[encoded data removed]",
      "text/plain": [
       "<Figure size 640x480 with 1 Axes>"
      ]
     },
     "metadata": {},
     "output_type": "display_data"
    }
   ],
   "source": [
    "plt.hist(df[[\"loadEventEnd\"]], 10)\n",
    "plt.show() "
   ]
  },
  {
   "cell_type": "code",
   "execution_count": null,
   "metadata": {},
   "outputs": [],
   "source": []
  }
 ],
 "metadata": {
  "kernelspec": {
   "display_name": "Python 3",
   "language": "python",
   "name": "python3"
  },
  "language_info": {
   "codemirror_mode": {
    "name": "ipython",
    "version": 3
   },
   "file_extension": ".py",
   "mimetype": "text/x-python",
   "name": "python",
   "nbconvert_exporter": "python",
   "pygments_lexer": "ipython3",
   "version": "3.9.6"
  }
 },
 "nbformat": 4,
 "nbformat_minor": 2
}
